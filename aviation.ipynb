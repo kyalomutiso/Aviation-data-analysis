{
 "cells": [
  {
   "cell_type": "markdown",
   "id": "31ea0a6e",
   "metadata": {},
   "source": [
    "DATA CLEANING AND PREPARATION FOR AVIATION ACCIDENT DATA\n",
    "Below we are importing Pandas "
   ]
  },
  {
   "cell_type": "code",
   "execution_count": 12,
   "id": "6d176449",
   "metadata": {},
   "outputs": [],
   "source": [
    "#importing pandas for data manipulation\n",
    "import pandas as pd"
   ]
  },
  {
   "cell_type": "markdown",
   "id": "8af9513f",
   "metadata": {},
   "source": [
    "Using \"read_csv\", a panda function, we were able to read the csv file to a form python can manipulate the data and saved under a DataFrame \"df\"."
   ]
  },
  {
   "cell_type": "code",
   "execution_count": 13,
   "id": "20ad75eb",
   "metadata": {},
   "outputs": [
    {
     "data": {
      "text/html": [
       "<div>\n",
       "<style scoped>\n",
       "    .dataframe tbody tr th:only-of-type {\n",
       "        vertical-align: middle;\n",
       "    }\n",
       "\n",
       "    .dataframe tbody tr th {\n",
       "        vertical-align: top;\n",
       "    }\n",
       "\n",
       "    .dataframe thead th {\n",
       "        text-align: right;\n",
       "    }\n",
       "</style>\n",
       "<table border=\"1\" class=\"dataframe\">\n",
       "  <thead>\n",
       "    <tr style=\"text-align: right;\">\n",
       "      <th></th>\n",
       "      <th>date</th>\n",
       "      <th>type</th>\n",
       "      <th>registration</th>\n",
       "      <th>operator</th>\n",
       "      <th>fatalities</th>\n",
       "      <th>location</th>\n",
       "      <th>country</th>\n",
       "      <th>cat</th>\n",
       "      <th>year</th>\n",
       "    </tr>\n",
       "  </thead>\n",
       "  <tbody>\n",
       "    <tr>\n",
       "      <th>0</th>\n",
       "      <td>date unk.</td>\n",
       "      <td>Antonov An-12B</td>\n",
       "      <td>T-1206</td>\n",
       "      <td>Indonesian AF</td>\n",
       "      <td>NaN</td>\n",
       "      <td>NaN</td>\n",
       "      <td>Unknown country</td>\n",
       "      <td>U1</td>\n",
       "      <td>unknown</td>\n",
       "    </tr>\n",
       "    <tr>\n",
       "      <th>1</th>\n",
       "      <td>date unk.</td>\n",
       "      <td>Antonov An-12B</td>\n",
       "      <td>T-1204</td>\n",
       "      <td>Indonesian AF</td>\n",
       "      <td>NaN</td>\n",
       "      <td>NaN</td>\n",
       "      <td>Unknown country</td>\n",
       "      <td>U1</td>\n",
       "      <td>unknown</td>\n",
       "    </tr>\n",
       "    <tr>\n",
       "      <th>2</th>\n",
       "      <td>date unk.</td>\n",
       "      <td>Antonov An-12B</td>\n",
       "      <td>T-1201</td>\n",
       "      <td>Indonesian AF</td>\n",
       "      <td>NaN</td>\n",
       "      <td>NaN</td>\n",
       "      <td>Unknown country</td>\n",
       "      <td>U1</td>\n",
       "      <td>unknown</td>\n",
       "    </tr>\n",
       "    <tr>\n",
       "      <th>3</th>\n",
       "      <td>date unk.</td>\n",
       "      <td>Antonov An-12BK</td>\n",
       "      <td>NaN</td>\n",
       "      <td>Soviet AF</td>\n",
       "      <td>NaN</td>\n",
       "      <td>Tiksi Airport (IKS)</td>\n",
       "      <td>Russia</td>\n",
       "      <td>A1</td>\n",
       "      <td>unknown</td>\n",
       "    </tr>\n",
       "    <tr>\n",
       "      <th>4</th>\n",
       "      <td>date unk.</td>\n",
       "      <td>Antonov An-12BP</td>\n",
       "      <td>CCCP-11815</td>\n",
       "      <td>Soviet AF</td>\n",
       "      <td>0</td>\n",
       "      <td>Massawa Airport ...</td>\n",
       "      <td>Eritrea</td>\n",
       "      <td>A1</td>\n",
       "      <td>unknown</td>\n",
       "    </tr>\n",
       "  </tbody>\n",
       "</table>\n",
       "</div>"
      ],
      "text/plain": [
       "        date             type registration       operator fatalities  \\\n",
       "0  date unk.   Antonov An-12B       T-1206  Indonesian AF        NaN   \n",
       "1  date unk.   Antonov An-12B       T-1204  Indonesian AF        NaN   \n",
       "2  date unk.   Antonov An-12B       T-1201  Indonesian AF        NaN   \n",
       "3  date unk.  Antonov An-12BK          NaN      Soviet AF        NaN   \n",
       "4  date unk.  Antonov An-12BP   CCCP-11815      Soviet AF          0   \n",
       "\n",
       "              location          country cat     year  \n",
       "0                  NaN  Unknown country  U1  unknown  \n",
       "1                  NaN  Unknown country  U1  unknown  \n",
       "2                  NaN  Unknown country  U1  unknown  \n",
       "3  Tiksi Airport (IKS)           Russia  A1  unknown  \n",
       "4  Massawa Airport ...          Eritrea  A1  unknown  "
      ]
     },
     "execution_count": 13,
     "metadata": {},
     "output_type": "execute_result"
    }
   ],
   "source": [
    "#read csv\n",
    "df = pd.read_csv('aviation-accident-data-2023-05-16.csv')\n",
    "df.head()"
   ]
  },
  {
   "cell_type": "markdown",
   "id": "ccda0293",
   "metadata": {},
   "source": [
    "After reading the csv file into a form it can be manipulated by python we are able to clean the data.\n",
    "We then have to check the number of columns and their data types to see what we are working with."
   ]
  },
  {
   "cell_type": "code",
   "execution_count": 14,
   "id": "c4c93cd1",
   "metadata": {},
   "outputs": [
    {
     "name": "stdout",
     "output_type": "stream",
     "text": [
      "<class 'pandas.core.frame.DataFrame'>\n",
      "RangeIndex: 23967 entries, 0 to 23966\n",
      "Data columns (total 9 columns):\n",
      " #   Column        Non-Null Count  Dtype \n",
      "---  ------        --------------  ----- \n",
      " 0   date          23967 non-null  object\n",
      " 1   type          23967 non-null  object\n",
      " 2   registration  22419 non-null  object\n",
      " 3   operator      23963 non-null  object\n",
      " 4   fatalities    20029 non-null  object\n",
      " 5   location      23019 non-null  object\n",
      " 6   country       23967 non-null  object\n",
      " 7   cat           23967 non-null  object\n",
      " 8   year          23967 non-null  object\n",
      "dtypes: object(9)\n",
      "memory usage: 1.6+ MB\n"
     ]
    }
   ],
   "source": [
    "df.info()"
   ]
  },
  {
   "cell_type": "markdown",
   "id": "2bfcc3b1",
   "metadata": {},
   "source": [
    "From the above function we were able to see that there are 9 columns with all of them being object data type which needs to change."
   ]
  },
  {
   "cell_type": "markdown",
   "id": "f4f2605a",
   "metadata": {},
   "source": [
    "Below we then checked which columns had missing values and how many they were."
   ]
  },
  {
   "cell_type": "code",
   "execution_count": 15,
   "id": "f2aa4e1f",
   "metadata": {},
   "outputs": [
    {
     "data": {
      "text/plain": [
       "date               0\n",
       "type               0\n",
       "registration    1548\n",
       "operator           4\n",
       "fatalities      3938\n",
       "location         948\n",
       "country            0\n",
       "cat                0\n",
       "year               0\n",
       "dtype: int64"
      ]
     },
     "execution_count": 15,
     "metadata": {},
     "output_type": "execute_result"
    }
   ],
   "source": [
    "df.isna().sum()"
   ]
  },
  {
   "cell_type": "markdown",
   "id": "d388afa7",
   "metadata": {},
   "source": [
    "Using \"dropna\" ,which is a method in python, we used it to remove the missing values from the DataFrame.\n",
    "Using \"inplace =True\" we used it to affect the actual database otherwise nothing would've been affected."
   ]
  },
  {
   "cell_type": "code",
   "execution_count": 16,
   "id": "8f95fe04",
   "metadata": {},
   "outputs": [],
   "source": [
    "df.dropna(inplace = True)"
   ]
  },
  {
   "cell_type": "markdown",
   "id": "840160bf",
   "metadata": {},
   "source": [
    "As you can see below we checked for the missing values and it brought null."
   ]
  },
  {
   "cell_type": "code",
   "execution_count": 17,
   "id": "b71f294f",
   "metadata": {},
   "outputs": [
    {
     "data": {
      "text/plain": [
       "date            0\n",
       "type            0\n",
       "registration    0\n",
       "operator        0\n",
       "fatalities      0\n",
       "location        0\n",
       "country         0\n",
       "cat             0\n",
       "year            0\n",
       "dtype: int64"
      ]
     },
     "execution_count": 17,
     "metadata": {},
     "output_type": "execute_result"
    }
   ],
   "source": [
    "df.isna().sum()"
   ]
  },
  {
   "cell_type": "markdown",
   "id": "df3e7337",
   "metadata": {},
   "source": [
    "For the second step in the data cleaning process we checked for duplicated values."
   ]
  },
  {
   "cell_type": "code",
   "execution_count": 18,
   "id": "89ed5e84",
   "metadata": {},
   "outputs": [
    {
     "data": {
      "text/plain": [
       "1"
      ]
     },
     "execution_count": 18,
     "metadata": {},
     "output_type": "execute_result"
    }
   ],
   "source": [
    "df.duplicated().sum()"
   ]
  },
  {
   "cell_type": "markdown",
   "id": "ef1c7e4d",
   "metadata": {},
   "source": [
    "Only one was found.\n",
    "We removed the duplicated value in the using the method \"drop_duplicates\" for data accuracy."
   ]
  },
  {
   "cell_type": "code",
   "execution_count": 19,
   "id": "e3d1823e",
   "metadata": {},
   "outputs": [],
   "source": [
    "df.drop_duplicates(inplace = True)"
   ]
  },
  {
   "cell_type": "markdown",
   "id": "96dad0c2",
   "metadata": {},
   "source": [
    "As you can see below we checked again and duplicated values is null."
   ]
  },
  {
   "cell_type": "code",
   "execution_count": 20,
   "id": "b7f1b931",
   "metadata": {},
   "outputs": [
    {
     "data": {
      "text/plain": [
       "0"
      ]
     },
     "execution_count": 20,
     "metadata": {},
     "output_type": "execute_result"
    }
   ],
   "source": [
    "df.duplicated().sum()"
   ]
  },
  {
   "cell_type": "code",
   "execution_count": 21,
   "id": "ece1a02a",
   "metadata": {},
   "outputs": [
    {
     "data": {
      "text/html": [
       "<div>\n",
       "<style scoped>\n",
       "    .dataframe tbody tr th:only-of-type {\n",
       "        vertical-align: middle;\n",
       "    }\n",
       "\n",
       "    .dataframe tbody tr th {\n",
       "        vertical-align: top;\n",
       "    }\n",
       "\n",
       "    .dataframe thead th {\n",
       "        text-align: right;\n",
       "    }\n",
       "</style>\n",
       "<table border=\"1\" class=\"dataframe\">\n",
       "  <thead>\n",
       "    <tr style=\"text-align: right;\">\n",
       "      <th></th>\n",
       "      <th>date</th>\n",
       "      <th>type</th>\n",
       "      <th>registration</th>\n",
       "      <th>operator</th>\n",
       "      <th>fatalities</th>\n",
       "      <th>location</th>\n",
       "      <th>country</th>\n",
       "      <th>cat</th>\n",
       "      <th>year</th>\n",
       "    </tr>\n",
       "  </thead>\n",
       "  <tbody>\n",
       "    <tr>\n",
       "      <th>4</th>\n",
       "      <td>date unk.</td>\n",
       "      <td>Antonov An-12BP</td>\n",
       "      <td>CCCP-11815</td>\n",
       "      <td>Soviet AF</td>\n",
       "      <td>0</td>\n",
       "      <td>Massawa Airport ...</td>\n",
       "      <td>Eritrea</td>\n",
       "      <td>A1</td>\n",
       "      <td>unknown</td>\n",
       "    </tr>\n",
       "    <tr>\n",
       "      <th>7</th>\n",
       "      <td>date unk.</td>\n",
       "      <td>Antonov An-2</td>\n",
       "      <td>CCCP-01216</td>\n",
       "      <td>Aeroflot</td>\n",
       "      <td>0</td>\n",
       "      <td>Chita region</td>\n",
       "      <td>Russia</td>\n",
       "      <td>A2</td>\n",
       "      <td>unknown</td>\n",
       "    </tr>\n",
       "    <tr>\n",
       "      <th>9</th>\n",
       "      <td>date unk.</td>\n",
       "      <td>Antonov An-26</td>\n",
       "      <td>01 red</td>\n",
       "      <td>Soviet AF</td>\n",
       "      <td>0</td>\n",
       "      <td>Orenburg Air Base</td>\n",
       "      <td>Russia</td>\n",
       "      <td>O1</td>\n",
       "      <td>unknown</td>\n",
       "    </tr>\n",
       "    <tr>\n",
       "      <th>10</th>\n",
       "      <td>date unk.</td>\n",
       "      <td>Antonov An-26</td>\n",
       "      <td>RA-47415</td>\n",
       "      <td>Russian AF</td>\n",
       "      <td>0</td>\n",
       "      <td>Belgorod Airport...</td>\n",
       "      <td>Russia</td>\n",
       "      <td>A1</td>\n",
       "      <td>unknown</td>\n",
       "    </tr>\n",
       "    <tr>\n",
       "      <th>13</th>\n",
       "      <td>date unk.</td>\n",
       "      <td>Antonov An-2R</td>\n",
       "      <td>-</td>\n",
       "      <td>PZL-Mielec</td>\n",
       "      <td>0</td>\n",
       "      <td>Mielec</td>\n",
       "      <td>Poland</td>\n",
       "      <td>O1</td>\n",
       "      <td>unknown</td>\n",
       "    </tr>\n",
       "  </tbody>\n",
       "</table>\n",
       "</div>"
      ],
      "text/plain": [
       "         date             type registration    operator fatalities  \\\n",
       "4   date unk.  Antonov An-12BP   CCCP-11815   Soviet AF          0   \n",
       "7   date unk.     Antonov An-2   CCCP-01216    Aeroflot          0   \n",
       "9   date unk.    Antonov An-26       01 red   Soviet AF          0   \n",
       "10  date unk.    Antonov An-26     RA-47415  Russian AF          0   \n",
       "13  date unk.    Antonov An-2R            -  PZL-Mielec          0   \n",
       "\n",
       "               location  country cat     year  \n",
       "4   Massawa Airport ...  Eritrea  A1  unknown  \n",
       "7          Chita region   Russia  A2  unknown  \n",
       "9     Orenburg Air Base   Russia  O1  unknown  \n",
       "10  Belgorod Airport...   Russia  A1  unknown  \n",
       "13               Mielec   Poland  O1  unknown  "
      ]
     },
     "execution_count": 21,
     "metadata": {},
     "output_type": "execute_result"
    }
   ],
   "source": [
    "df.head()"
   ]
  },
  {
   "cell_type": "markdown",
   "id": "d603a7f2",
   "metadata": {},
   "source": [
    "Below we used the method (\".apply\") to only affect the column \"fatalities\" as our goal is to evaluate the column from object data type to integer data type as it would be easily manipulated and be able to calculated."
   ]
  },
  {
   "cell_type": "code",
   "execution_count": 22,
   "id": "c3c4299c",
   "metadata": {},
   "outputs": [],
   "source": [
    "df['fatalities'] = df['fatalities'].apply(lambda x: eval(str(x)) if isinstance(x, str)else x)\n",
    "#if isinstance (x,str) else x part is just a safety check to make sure we only eval to strings and leave actual numbers unchanged."
   ]
  },
  {
   "cell_type": "markdown",
   "id": "fc64bc7b",
   "metadata": {},
   "source": [
    "When we checked again below for the data types, the column \"fatalities\" datatype changed from object to int64"
   ]
  },
  {
   "cell_type": "code",
   "execution_count": 23,
   "id": "20287690",
   "metadata": {},
   "outputs": [
    {
     "name": "stdout",
     "output_type": "stream",
     "text": [
      "<class 'pandas.core.frame.DataFrame'>\n",
      "Int64Index: 18642 entries, 4 to 23966\n",
      "Data columns (total 9 columns):\n",
      " #   Column        Non-Null Count  Dtype \n",
      "---  ------        --------------  ----- \n",
      " 0   date          18642 non-null  object\n",
      " 1   type          18642 non-null  object\n",
      " 2   registration  18642 non-null  object\n",
      " 3   operator      18642 non-null  object\n",
      " 4   fatalities    18642 non-null  int64 \n",
      " 5   location      18642 non-null  object\n",
      " 6   country       18642 non-null  object\n",
      " 7   cat           18642 non-null  object\n",
      " 8   year          18642 non-null  object\n",
      "dtypes: int64(1), object(8)\n",
      "memory usage: 1.4+ MB\n"
     ]
    }
   ],
   "source": [
    "df.info()"
   ]
  },
  {
   "cell_type": "code",
   "execution_count": 24,
   "id": "ad27f93b",
   "metadata": {},
   "outputs": [
    {
     "data": {
      "text/html": [
       "<div>\n",
       "<style scoped>\n",
       "    .dataframe tbody tr th:only-of-type {\n",
       "        vertical-align: middle;\n",
       "    }\n",
       "\n",
       "    .dataframe tbody tr th {\n",
       "        vertical-align: top;\n",
       "    }\n",
       "\n",
       "    .dataframe thead th {\n",
       "        text-align: right;\n",
       "    }\n",
       "</style>\n",
       "<table border=\"1\" class=\"dataframe\">\n",
       "  <thead>\n",
       "    <tr style=\"text-align: right;\">\n",
       "      <th></th>\n",
       "      <th>date</th>\n",
       "      <th>type</th>\n",
       "      <th>registration</th>\n",
       "      <th>operator</th>\n",
       "      <th>fatalities</th>\n",
       "      <th>location</th>\n",
       "      <th>country</th>\n",
       "      <th>cat</th>\n",
       "      <th>year</th>\n",
       "    </tr>\n",
       "  </thead>\n",
       "  <tbody>\n",
       "    <tr>\n",
       "      <th>4</th>\n",
       "      <td>date unk.</td>\n",
       "      <td>Antonov An-12BP</td>\n",
       "      <td>CCCP-11815</td>\n",
       "      <td>Soviet AF</td>\n",
       "      <td>0</td>\n",
       "      <td>Massawa Airport ...</td>\n",
       "      <td>Eritrea</td>\n",
       "      <td>A1</td>\n",
       "      <td>unknown</td>\n",
       "    </tr>\n",
       "    <tr>\n",
       "      <th>7</th>\n",
       "      <td>date unk.</td>\n",
       "      <td>Antonov An-2</td>\n",
       "      <td>CCCP-01216</td>\n",
       "      <td>Aeroflot</td>\n",
       "      <td>0</td>\n",
       "      <td>Chita region</td>\n",
       "      <td>Russia</td>\n",
       "      <td>A2</td>\n",
       "      <td>unknown</td>\n",
       "    </tr>\n",
       "    <tr>\n",
       "      <th>9</th>\n",
       "      <td>date unk.</td>\n",
       "      <td>Antonov An-26</td>\n",
       "      <td>01 red</td>\n",
       "      <td>Soviet AF</td>\n",
       "      <td>0</td>\n",
       "      <td>Orenburg Air Base</td>\n",
       "      <td>Russia</td>\n",
       "      <td>O1</td>\n",
       "      <td>unknown</td>\n",
       "    </tr>\n",
       "    <tr>\n",
       "      <th>10</th>\n",
       "      <td>date unk.</td>\n",
       "      <td>Antonov An-26</td>\n",
       "      <td>RA-47415</td>\n",
       "      <td>Russian AF</td>\n",
       "      <td>0</td>\n",
       "      <td>Belgorod Airport...</td>\n",
       "      <td>Russia</td>\n",
       "      <td>A1</td>\n",
       "      <td>unknown</td>\n",
       "    </tr>\n",
       "    <tr>\n",
       "      <th>13</th>\n",
       "      <td>date unk.</td>\n",
       "      <td>Antonov An-2R</td>\n",
       "      <td>-</td>\n",
       "      <td>PZL-Mielec</td>\n",
       "      <td>0</td>\n",
       "      <td>Mielec</td>\n",
       "      <td>Poland</td>\n",
       "      <td>O1</td>\n",
       "      <td>unknown</td>\n",
       "    </tr>\n",
       "  </tbody>\n",
       "</table>\n",
       "</div>"
      ],
      "text/plain": [
       "         date             type registration    operator  fatalities  \\\n",
       "4   date unk.  Antonov An-12BP   CCCP-11815   Soviet AF           0   \n",
       "7   date unk.     Antonov An-2   CCCP-01216    Aeroflot           0   \n",
       "9   date unk.    Antonov An-26       01 red   Soviet AF           0   \n",
       "10  date unk.    Antonov An-26     RA-47415  Russian AF           0   \n",
       "13  date unk.    Antonov An-2R            -  PZL-Mielec           0   \n",
       "\n",
       "               location  country cat     year  \n",
       "4   Massawa Airport ...  Eritrea  A1  unknown  \n",
       "7          Chita region   Russia  A2  unknown  \n",
       "9     Orenburg Air Base   Russia  O1  unknown  \n",
       "10  Belgorod Airport...   Russia  A1  unknown  \n",
       "13               Mielec   Poland  O1  unknown  "
      ]
     },
     "execution_count": 24,
     "metadata": {},
     "output_type": "execute_result"
    }
   ],
   "source": [
    "df.head()"
   ]
  },
  {
   "cell_type": "markdown",
   "id": "0e823571",
   "metadata": {},
   "source": [
    "The next step we noticed that some values in the column \"year\" was stated \"unknown\" in which we used python to detect how many they were."
   ]
  },
  {
   "cell_type": "code",
   "execution_count": 25,
   "id": "c569863d",
   "metadata": {},
   "outputs": [
    {
     "data": {
      "text/plain": [
       "16"
      ]
     },
     "execution_count": 25,
     "metadata": {},
     "output_type": "execute_result"
    }
   ],
   "source": [
    "df['year'].eq('unknown').sum()"
   ]
  },
  {
   "cell_type": "markdown",
   "id": "bdcbe9dc",
   "metadata": {},
   "source": [
    "Using the method (\".loc\") we removed the rows containing \"unknown\".\n",
    "All rows that DIDN'T state \"unknown\" was saved back to the DataFrame.\n",
    "(\"!=\" means NOT equal to)"
   ]
  },
  {
   "cell_type": "code",
   "execution_count": 26,
   "id": "b15f2aef",
   "metadata": {},
   "outputs": [
    {
     "data": {
      "text/html": [
       "<div>\n",
       "<style scoped>\n",
       "    .dataframe tbody tr th:only-of-type {\n",
       "        vertical-align: middle;\n",
       "    }\n",
       "\n",
       "    .dataframe tbody tr th {\n",
       "        vertical-align: top;\n",
       "    }\n",
       "\n",
       "    .dataframe thead th {\n",
       "        text-align: right;\n",
       "    }\n",
       "</style>\n",
       "<table border=\"1\" class=\"dataframe\">\n",
       "  <thead>\n",
       "    <tr style=\"text-align: right;\">\n",
       "      <th></th>\n",
       "      <th>date</th>\n",
       "      <th>type</th>\n",
       "      <th>registration</th>\n",
       "      <th>operator</th>\n",
       "      <th>fatalities</th>\n",
       "      <th>location</th>\n",
       "      <th>country</th>\n",
       "      <th>cat</th>\n",
       "      <th>year</th>\n",
       "    </tr>\n",
       "  </thead>\n",
       "  <tbody>\n",
       "    <tr>\n",
       "      <th>62</th>\n",
       "      <td>11-AUG-1919</td>\n",
       "      <td>Felixstowe Fury</td>\n",
       "      <td>N123</td>\n",
       "      <td>RAF</td>\n",
       "      <td>1</td>\n",
       "      <td>near Felixtowe RNAS</td>\n",
       "      <td>U.K.</td>\n",
       "      <td>A1</td>\n",
       "      <td>1919</td>\n",
       "    </tr>\n",
       "    <tr>\n",
       "      <th>63</th>\n",
       "      <td>23-FEB-1920</td>\n",
       "      <td>Handley Page O/7</td>\n",
       "      <td>G-EANV</td>\n",
       "      <td>Handley Page Transport</td>\n",
       "      <td>0</td>\n",
       "      <td>Acadia Siding, C...</td>\n",
       "      <td>South Africa</td>\n",
       "      <td>A1</td>\n",
       "      <td>1920</td>\n",
       "    </tr>\n",
       "    <tr>\n",
       "      <th>64</th>\n",
       "      <td>25-FEB-1920</td>\n",
       "      <td>Handley Page O/400</td>\n",
       "      <td>G-EAMC</td>\n",
       "      <td>Handley Page Transport</td>\n",
       "      <td>0</td>\n",
       "      <td>near El Shereik</td>\n",
       "      <td>Sudan</td>\n",
       "      <td>A1</td>\n",
       "      <td>1920</td>\n",
       "    </tr>\n",
       "    <tr>\n",
       "      <th>65</th>\n",
       "      <td>30-JUN-1920</td>\n",
       "      <td>Handley Page O/400</td>\n",
       "      <td>G-EAKE</td>\n",
       "      <td>Handley Page Transport</td>\n",
       "      <td>0</td>\n",
       "      <td>ÃstanÃ¥</td>\n",
       "      <td>Sweden</td>\n",
       "      <td>A1</td>\n",
       "      <td>1920</td>\n",
       "    </tr>\n",
       "    <tr>\n",
       "      <th>66</th>\n",
       "      <td>14-DEC-1920</td>\n",
       "      <td>Handley Page O/400</td>\n",
       "      <td>G-EAMA</td>\n",
       "      <td>Handley Page Transport</td>\n",
       "      <td>4</td>\n",
       "      <td>Golders Green</td>\n",
       "      <td>U.K.</td>\n",
       "      <td>A1</td>\n",
       "      <td>1920</td>\n",
       "    </tr>\n",
       "  </tbody>\n",
       "</table>\n",
       "</div>"
      ],
      "text/plain": [
       "           date                type registration                operator  \\\n",
       "62  11-AUG-1919     Felixstowe Fury         N123                     RAF   \n",
       "63  23-FEB-1920    Handley Page O/7       G-EANV  Handley Page Transport   \n",
       "64  25-FEB-1920  Handley Page O/400       G-EAMC  Handley Page Transport   \n",
       "65  30-JUN-1920  Handley Page O/400       G-EAKE  Handley Page Transport   \n",
       "66  14-DEC-1920  Handley Page O/400       G-EAMA  Handley Page Transport   \n",
       "\n",
       "    fatalities             location       country cat  year  \n",
       "62           1  near Felixtowe RNAS          U.K.  A1  1919  \n",
       "63           0  Acadia Siding, C...  South Africa  A1  1920  \n",
       "64           0      near El Shereik         Sudan  A1  1920  \n",
       "65           0             ÃstanÃ¥        Sweden  A1  1920  \n",
       "66           4        Golders Green          U.K.  A1  1920  "
      ]
     },
     "execution_count": 26,
     "metadata": {},
     "output_type": "execute_result"
    }
   ],
   "source": [
    "df = df.loc[df['year'] != 'unknown']\n",
    "df.head()"
   ]
  },
  {
   "cell_type": "markdown",
   "id": "0bee2e05",
   "metadata": {},
   "source": [
    "For confirmation we checked again to see if there were \"unknown\" values and brought back null."
   ]
  },
  {
   "cell_type": "code",
   "execution_count": 27,
   "id": "05970f46",
   "metadata": {},
   "outputs": [
    {
     "data": {
      "text/plain": [
       "0"
      ]
     },
     "execution_count": 27,
     "metadata": {},
     "output_type": "execute_result"
    }
   ],
   "source": [
    "df['year'].eq('unknown').sum()"
   ]
  },
  {
   "cell_type": "code",
   "execution_count": 28,
   "id": "73a5f2d9",
   "metadata": {},
   "outputs": [
    {
     "name": "stdout",
     "output_type": "stream",
     "text": [
      "<class 'pandas.core.frame.DataFrame'>\n",
      "Int64Index: 18626 entries, 62 to 23966\n",
      "Data columns (total 9 columns):\n",
      " #   Column        Non-Null Count  Dtype \n",
      "---  ------        --------------  ----- \n",
      " 0   date          18626 non-null  object\n",
      " 1   type          18626 non-null  object\n",
      " 2   registration  18626 non-null  object\n",
      " 3   operator      18626 non-null  object\n",
      " 4   fatalities    18626 non-null  int64 \n",
      " 5   location      18626 non-null  object\n",
      " 6   country       18626 non-null  object\n",
      " 7   cat           18626 non-null  object\n",
      " 8   year          18626 non-null  object\n",
      "dtypes: int64(1), object(8)\n",
      "memory usage: 1.4+ MB\n"
     ]
    }
   ],
   "source": [
    "df.info()"
   ]
  },
  {
   "cell_type": "code",
   "execution_count": 29,
   "id": "d61bdb97",
   "metadata": {},
   "outputs": [
    {
     "data": {
      "text/plain": [
       "USA                     3813\n",
       "Russia                  1191\n",
       "Canada                   782\n",
       "U.K.                     714\n",
       "Brazil                   566\n",
       "                        ... \n",
       "Mauritius                  1\n",
       "Christmas Isl.             1\n",
       "St. Helena                 1\n",
       "St.Pierre & Miquelon       1\n",
       "Macau                      1\n",
       "Name: country, Length: 230, dtype: int64"
      ]
     },
     "execution_count": 29,
     "metadata": {},
     "output_type": "execute_result"
    }
   ],
   "source": [
    "df['country'].value_counts()"
   ]
  },
  {
   "cell_type": "code",
   "execution_count": 30,
   "id": "6767bd58",
   "metadata": {},
   "outputs": [
    {
     "data": {
      "text/plain": [
       "LZ-...      13\n",
       "-            9\n",
       "unreg.       6\n",
       "N3125N       4\n",
       "48           4\n",
       "            ..\n",
       "44-77538     1\n",
       "N711TE       1\n",
       "N326US       1\n",
       "RP-C82       1\n",
       "CF-TCU       1\n",
       "Name: registration, Length: 18228, dtype: int64"
      ]
     },
     "execution_count": 30,
     "metadata": {},
     "output_type": "execute_result"
    }
   ],
   "source": [
    "df['registration'].value_counts()"
   ]
  },
  {
   "cell_type": "code",
   "execution_count": 31,
   "id": "19788fd2",
   "metadata": {},
   "outputs": [],
   "source": [
    "df['date'] = pd.to_datetime(df['date'], errors=\"coerce\")"
   ]
  },
  {
   "cell_type": "code",
   "execution_count": 32,
   "id": "f22aa1ab",
   "metadata": {},
   "outputs": [
    {
     "data": {
      "text/plain": [
       "date            171\n",
       "type              0\n",
       "registration      0\n",
       "operator          0\n",
       "fatalities        0\n",
       "location          0\n",
       "country           0\n",
       "cat               0\n",
       "year              0\n",
       "dtype: int64"
      ]
     },
     "execution_count": 32,
     "metadata": {},
     "output_type": "execute_result"
    }
   ],
   "source": [
    "df.isna().sum()"
   ]
  },
  {
   "cell_type": "code",
   "execution_count": 33,
   "id": "df1cb3b0",
   "metadata": {},
   "outputs": [],
   "source": [
    "df.dropna(inplace = True)"
   ]
  },
  {
   "cell_type": "code",
   "execution_count": 34,
   "id": "a23d6a3d",
   "metadata": {},
   "outputs": [
    {
     "data": {
      "text/plain": [
       "date            0\n",
       "type            0\n",
       "registration    0\n",
       "operator        0\n",
       "fatalities      0\n",
       "location        0\n",
       "country         0\n",
       "cat             0\n",
       "year            0\n",
       "dtype: int64"
      ]
     },
     "execution_count": 34,
     "metadata": {},
     "output_type": "execute_result"
    }
   ],
   "source": [
    "df.isna().sum()"
   ]
  },
  {
   "cell_type": "markdown",
   "id": "8c2179c6",
   "metadata": {},
   "source": [
    "We checked again for the amount values in each column and through data cleaning we went from 23967 values to 18455 values."
   ]
  },
  {
   "cell_type": "code",
   "execution_count": 35,
   "id": "5da4522d",
   "metadata": {},
   "outputs": [
    {
     "name": "stdout",
     "output_type": "stream",
     "text": [
      "<class 'pandas.core.frame.DataFrame'>\n",
      "Int64Index: 18455 entries, 62 to 23966\n",
      "Data columns (total 9 columns):\n",
      " #   Column        Non-Null Count  Dtype         \n",
      "---  ------        --------------  -----         \n",
      " 0   date          18455 non-null  datetime64[ns]\n",
      " 1   type          18455 non-null  object        \n",
      " 2   registration  18455 non-null  object        \n",
      " 3   operator      18455 non-null  object        \n",
      " 4   fatalities    18455 non-null  int64         \n",
      " 5   location      18455 non-null  object        \n",
      " 6   country       18455 non-null  object        \n",
      " 7   cat           18455 non-null  object        \n",
      " 8   year          18455 non-null  object        \n",
      "dtypes: datetime64[ns](1), int64(1), object(7)\n",
      "memory usage: 1.4+ MB\n"
     ]
    }
   ],
   "source": [
    "df.info()"
   ]
  },
  {
   "cell_type": "code",
   "execution_count": 36,
   "id": "cc849522",
   "metadata": {},
   "outputs": [
    {
     "data": {
      "text/html": [
       "<div>\n",
       "<style scoped>\n",
       "    .dataframe tbody tr th:only-of-type {\n",
       "        vertical-align: middle;\n",
       "    }\n",
       "\n",
       "    .dataframe tbody tr th {\n",
       "        vertical-align: top;\n",
       "    }\n",
       "\n",
       "    .dataframe thead th {\n",
       "        text-align: right;\n",
       "    }\n",
       "</style>\n",
       "<table border=\"1\" class=\"dataframe\">\n",
       "  <thead>\n",
       "    <tr style=\"text-align: right;\">\n",
       "      <th></th>\n",
       "      <th>date</th>\n",
       "      <th>type</th>\n",
       "      <th>registration</th>\n",
       "      <th>operator</th>\n",
       "      <th>fatalities</th>\n",
       "      <th>location</th>\n",
       "      <th>country</th>\n",
       "      <th>cat</th>\n",
       "      <th>year</th>\n",
       "    </tr>\n",
       "  </thead>\n",
       "  <tbody>\n",
       "    <tr>\n",
       "      <th>62</th>\n",
       "      <td>1919-08-11</td>\n",
       "      <td>Felixstowe Fury</td>\n",
       "      <td>N123</td>\n",
       "      <td>RAF</td>\n",
       "      <td>1</td>\n",
       "      <td>near Felixtowe RNAS</td>\n",
       "      <td>U.K.</td>\n",
       "      <td>A1</td>\n",
       "      <td>1919</td>\n",
       "    </tr>\n",
       "    <tr>\n",
       "      <th>63</th>\n",
       "      <td>1920-02-23</td>\n",
       "      <td>Handley Page O/7</td>\n",
       "      <td>G-EANV</td>\n",
       "      <td>Handley Page Transport</td>\n",
       "      <td>0</td>\n",
       "      <td>Acadia Siding, C...</td>\n",
       "      <td>South Africa</td>\n",
       "      <td>A1</td>\n",
       "      <td>1920</td>\n",
       "    </tr>\n",
       "    <tr>\n",
       "      <th>64</th>\n",
       "      <td>1920-02-25</td>\n",
       "      <td>Handley Page O/400</td>\n",
       "      <td>G-EAMC</td>\n",
       "      <td>Handley Page Transport</td>\n",
       "      <td>0</td>\n",
       "      <td>near El Shereik</td>\n",
       "      <td>Sudan</td>\n",
       "      <td>A1</td>\n",
       "      <td>1920</td>\n",
       "    </tr>\n",
       "    <tr>\n",
       "      <th>65</th>\n",
       "      <td>1920-06-30</td>\n",
       "      <td>Handley Page O/400</td>\n",
       "      <td>G-EAKE</td>\n",
       "      <td>Handley Page Transport</td>\n",
       "      <td>0</td>\n",
       "      <td>ÃstanÃ¥</td>\n",
       "      <td>Sweden</td>\n",
       "      <td>A1</td>\n",
       "      <td>1920</td>\n",
       "    </tr>\n",
       "    <tr>\n",
       "      <th>66</th>\n",
       "      <td>1920-12-14</td>\n",
       "      <td>Handley Page O/400</td>\n",
       "      <td>G-EAMA</td>\n",
       "      <td>Handley Page Transport</td>\n",
       "      <td>4</td>\n",
       "      <td>Golders Green</td>\n",
       "      <td>U.K.</td>\n",
       "      <td>A1</td>\n",
       "      <td>1920</td>\n",
       "    </tr>\n",
       "  </tbody>\n",
       "</table>\n",
       "</div>"
      ],
      "text/plain": [
       "         date                type registration                operator  \\\n",
       "62 1919-08-11     Felixstowe Fury         N123                     RAF   \n",
       "63 1920-02-23    Handley Page O/7       G-EANV  Handley Page Transport   \n",
       "64 1920-02-25  Handley Page O/400       G-EAMC  Handley Page Transport   \n",
       "65 1920-06-30  Handley Page O/400       G-EAKE  Handley Page Transport   \n",
       "66 1920-12-14  Handley Page O/400       G-EAMA  Handley Page Transport   \n",
       "\n",
       "    fatalities             location       country cat  year  \n",
       "62           1  near Felixtowe RNAS          U.K.  A1  1919  \n",
       "63           0  Acadia Siding, C...  South Africa  A1  1920  \n",
       "64           0      near El Shereik         Sudan  A1  1920  \n",
       "65           0             ÃstanÃ¥        Sweden  A1  1920  \n",
       "66           4        Golders Green          U.K.  A1  1920  "
      ]
     },
     "execution_count": 36,
     "metadata": {},
     "output_type": "execute_result"
    }
   ],
   "source": [
    "df.head()"
   ]
  },
  {
   "cell_type": "markdown",
   "id": "6440d4ee",
   "metadata": {},
   "source": [
    "Last but not least we changed the column \"year\" to int data type using method (\".astype\")"
   ]
  },
  {
   "cell_type": "code",
   "execution_count": 37,
   "id": "3fbc33fa",
   "metadata": {},
   "outputs": [],
   "source": [
    "df['year'] = df['year'].astype(int)"
   ]
  },
  {
   "cell_type": "markdown",
   "id": "0e5694a6",
   "metadata": {},
   "source": [
    "As the last step we converted the the DataFrame to a csv file  using (\"to_csv\").\n",
    "We also added (\"index = False\") to remove the row numbers."
   ]
  },
  {
   "cell_type": "code",
   "execution_count": 38,
   "id": "07d49d3f",
   "metadata": {},
   "outputs": [],
   "source": [
    "df.to_csv(\"Aviation-accident-data-test1.csv\",index = False)"
   ]
  },
  {
   "cell_type": "markdown",
   "id": "1e7867dd",
   "metadata": {},
   "source": [
    "Below we checked the value counts and the length of each column"
   ]
  },
  {
   "cell_type": "code",
   "execution_count": 39,
   "id": "5283e8fb",
   "metadata": {},
   "outputs": [
    {
     "data": {
      "text/plain": [
       "USAF                                 930\n",
       "USAAF                                826\n",
       "RAF                                  710\n",
       "US Navy                              469\n",
       "private                              254\n",
       "                                    ... \n",
       "Serv-Jet                               1\n",
       "Birgenair, op.for Alas Nacionales      1\n",
       "Trans National Airlines                1\n",
       "Million Air San Juan                   1\n",
       "Private Wings, op.for Alp-Air          1\n",
       "Name: operator, Length: 5718, dtype: int64"
      ]
     },
     "execution_count": 39,
     "metadata": {},
     "output_type": "execute_result"
    }
   ],
   "source": [
    "df['operator'].value_counts()"
   ]
  },
  {
   "cell_type": "code",
   "execution_count": 40,
   "id": "521d7981",
   "metadata": {},
   "outputs": [
    {
     "data": {
      "text/plain": [
       "Douglas C-47A (DC-3)      1091\n",
       "Douglas C-47B (DC-3)       363\n",
       "Douglas C-47 (DC-3)        328\n",
       "Antonov An-2R              284\n",
       "DHC-6 Twin Otter 300       249\n",
       "                          ... \n",
       "Douglas DC-6A/C              1\n",
       "Boeing 727-95                1\n",
       "CASA C-207C (T.7) Azor       1\n",
       "Boeing 747-8KZF              1\n",
       "Boeing 80A                   1\n",
       "Name: type, Length: 2984, dtype: int64"
      ]
     },
     "execution_count": 40,
     "metadata": {},
     "output_type": "execute_result"
    }
   ],
   "source": [
    "df['type'].value_counts()"
   ]
  },
  {
   "cell_type": "code",
   "execution_count": 41,
   "id": "c9c518b4",
   "metadata": {},
   "outputs": [
    {
     "data": {
      "text/plain": [
       "date        type                          registration  operator                 fatalities  location                  country   cat  year\n",
       "2023-05-15  Learjet 35A                   D-CGFQ        GFD                      2           Hohn Air Base             Germany   A1   2023    1\n",
       "1965-02-13  Curtiss C-46A                 YS-012C       AESA                     2           Miami, FL                 USA       A1   1965    1\n",
       "1964-03-01  Lockheed L-049 Constellation  N86504        Paradise Airlines        85          near Lake Tahoe Airpo...  USA       A1   1964    1\n",
       "1964-03-05  Douglas C-47A (DC-3)          LN-PAS        WiderÃ¸es Flyveselskap   0           Oslo-Fornebu Air...       Norway    A1   1964    1\n",
       "1964-03-08  Douglas C-47A (DC-3)          HK-862        LÃ­neas AÃ©reas Taxader  28          near FacatavivÃ¡          Colombia  A1   1964    1\n",
       "                                                                                                                                             ..\n",
       "1993-07-20  Cessna T-47A Citation II      N12660        Cessna Aircraft          0           Topeka-Forbes Fi...       USA       O1   1993    1\n",
       "                                          N12669        Cessna Aircraft          0           Topeka-Forbes Fi...       USA       O1   1993    1\n",
       "                                          N12756        Cessna Aircraft          0           Topeka-Forbes Fi...       USA       O1   1993    1\n",
       "                                          N12761        Cessna Aircraft          0           Topeka-Forbes Fi...       USA       O1   1993    1\n",
       "1919-08-11  Felixstowe Fury               N123          RAF                      1           near Felixtowe RNAS       U.K.      A1   1919    1\n",
       "Length: 18455, dtype: int64"
      ]
     },
     "execution_count": 41,
     "metadata": {},
     "output_type": "execute_result"
    }
   ],
   "source": [
    "df.value_counts()"
   ]
  },
  {
   "cell_type": "code",
   "execution_count": 42,
   "id": "19ef77ba",
   "metadata": {},
   "outputs": [
    {
     "data": {
      "text/plain": [
       "A1    13787\n",
       "A2     2433\n",
       "O1      854\n",
       "C1      846\n",
       "H2      329\n",
       "C2       65\n",
       "O2       59\n",
       "H1       42\n",
       "U1       25\n",
       "I2       12\n",
       "I1        3\n",
       "Name: cat, dtype: int64"
      ]
     },
     "execution_count": 42,
     "metadata": {},
     "output_type": "execute_result"
    }
   ],
   "source": [
    "df['cat'].value_counts()"
   ]
  },
  {
   "cell_type": "code",
   "execution_count": 43,
   "id": "525a2ec2",
   "metadata": {},
   "outputs": [
    {
     "data": {
      "text/html": [
       "<div>\n",
       "<style scoped>\n",
       "    .dataframe tbody tr th:only-of-type {\n",
       "        vertical-align: middle;\n",
       "    }\n",
       "\n",
       "    .dataframe tbody tr th {\n",
       "        vertical-align: top;\n",
       "    }\n",
       "\n",
       "    .dataframe thead th {\n",
       "        text-align: right;\n",
       "    }\n",
       "</style>\n",
       "<table border=\"1\" class=\"dataframe\">\n",
       "  <thead>\n",
       "    <tr style=\"text-align: right;\">\n",
       "      <th></th>\n",
       "      <th>date</th>\n",
       "      <th>type</th>\n",
       "      <th>registration</th>\n",
       "      <th>operator</th>\n",
       "      <th>fatalities</th>\n",
       "      <th>location</th>\n",
       "      <th>country</th>\n",
       "      <th>cat</th>\n",
       "      <th>year</th>\n",
       "    </tr>\n",
       "  </thead>\n",
       "  <tbody>\n",
       "    <tr>\n",
       "      <th>62</th>\n",
       "      <td>1919-08-11</td>\n",
       "      <td>Felixstowe Fury</td>\n",
       "      <td>N123</td>\n",
       "      <td>RAF</td>\n",
       "      <td>1</td>\n",
       "      <td>near Felixtowe RNAS</td>\n",
       "      <td>U.K.</td>\n",
       "      <td>A1</td>\n",
       "      <td>1919</td>\n",
       "    </tr>\n",
       "    <tr>\n",
       "      <th>63</th>\n",
       "      <td>1920-02-23</td>\n",
       "      <td>Handley Page O/7</td>\n",
       "      <td>G-EANV</td>\n",
       "      <td>Handley Page Transport</td>\n",
       "      <td>0</td>\n",
       "      <td>Acadia Siding, C...</td>\n",
       "      <td>South Africa</td>\n",
       "      <td>A1</td>\n",
       "      <td>1920</td>\n",
       "    </tr>\n",
       "    <tr>\n",
       "      <th>64</th>\n",
       "      <td>1920-02-25</td>\n",
       "      <td>Handley Page O/400</td>\n",
       "      <td>G-EAMC</td>\n",
       "      <td>Handley Page Transport</td>\n",
       "      <td>0</td>\n",
       "      <td>near El Shereik</td>\n",
       "      <td>Sudan</td>\n",
       "      <td>A1</td>\n",
       "      <td>1920</td>\n",
       "    </tr>\n",
       "    <tr>\n",
       "      <th>65</th>\n",
       "      <td>1920-06-30</td>\n",
       "      <td>Handley Page O/400</td>\n",
       "      <td>G-EAKE</td>\n",
       "      <td>Handley Page Transport</td>\n",
       "      <td>0</td>\n",
       "      <td>ÃstanÃ¥</td>\n",
       "      <td>Sweden</td>\n",
       "      <td>A1</td>\n",
       "      <td>1920</td>\n",
       "    </tr>\n",
       "    <tr>\n",
       "      <th>66</th>\n",
       "      <td>1920-12-14</td>\n",
       "      <td>Handley Page O/400</td>\n",
       "      <td>G-EAMA</td>\n",
       "      <td>Handley Page Transport</td>\n",
       "      <td>4</td>\n",
       "      <td>Golders Green</td>\n",
       "      <td>U.K.</td>\n",
       "      <td>A1</td>\n",
       "      <td>1920</td>\n",
       "    </tr>\n",
       "  </tbody>\n",
       "</table>\n",
       "</div>"
      ],
      "text/plain": [
       "         date                type registration                operator  \\\n",
       "62 1919-08-11     Felixstowe Fury         N123                     RAF   \n",
       "63 1920-02-23    Handley Page O/7       G-EANV  Handley Page Transport   \n",
       "64 1920-02-25  Handley Page O/400       G-EAMC  Handley Page Transport   \n",
       "65 1920-06-30  Handley Page O/400       G-EAKE  Handley Page Transport   \n",
       "66 1920-12-14  Handley Page O/400       G-EAMA  Handley Page Transport   \n",
       "\n",
       "    fatalities             location       country cat  year  \n",
       "62           1  near Felixtowe RNAS          U.K.  A1  1919  \n",
       "63           0  Acadia Siding, C...  South Africa  A1  1920  \n",
       "64           0      near El Shereik         Sudan  A1  1920  \n",
       "65           0             ÃstanÃ¥        Sweden  A1  1920  \n",
       "66           4        Golders Green          U.K.  A1  1920  "
      ]
     },
     "execution_count": 43,
     "metadata": {},
     "output_type": "execute_result"
    }
   ],
   "source": [
    "df.head()"
   ]
  },
  {
   "cell_type": "code",
   "execution_count": 44,
   "id": "78e71e36",
   "metadata": {},
   "outputs": [
    {
     "name": "stdout",
     "output_type": "stream",
     "text": [
      "<class 'pandas.core.frame.DataFrame'>\n",
      "Int64Index: 18455 entries, 62 to 23966\n",
      "Data columns (total 9 columns):\n",
      " #   Column        Non-Null Count  Dtype         \n",
      "---  ------        --------------  -----         \n",
      " 0   date          18455 non-null  datetime64[ns]\n",
      " 1   type          18455 non-null  object        \n",
      " 2   registration  18455 non-null  object        \n",
      " 3   operator      18455 non-null  object        \n",
      " 4   fatalities    18455 non-null  int64         \n",
      " 5   location      18455 non-null  object        \n",
      " 6   country       18455 non-null  object        \n",
      " 7   cat           18455 non-null  object        \n",
      " 8   year          18455 non-null  int32         \n",
      "dtypes: datetime64[ns](1), int32(1), int64(1), object(6)\n",
      "memory usage: 1.3+ MB\n"
     ]
    }
   ],
   "source": [
    "df.info()"
   ]
  },
  {
   "cell_type": "code",
   "execution_count": 45,
   "id": "7606b219",
   "metadata": {},
   "outputs": [
    {
     "data": {
      "text/plain": [
       "USA               3796\n",
       "Russia            1177\n",
       "Canada             779\n",
       "U.K.               713\n",
       "Brazil             565\n",
       "                  ... \n",
       "Christmas Isl.       1\n",
       "Mauritius            1\n",
       "Cook Isl.            1\n",
       "Tuvalu               1\n",
       "Monaco               1\n",
       "Name: country, Length: 230, dtype: int64"
      ]
     },
     "execution_count": 45,
     "metadata": {},
     "output_type": "execute_result"
    }
   ],
   "source": [
    "df['country'].value_counts()"
   ]
  }
 ],
 "metadata": {
  "kernelspec": {
   "display_name": "learn-env",
   "language": "python",
   "name": "python3"
  },
  "language_info": {
   "codemirror_mode": {
    "name": "ipython",
    "version": 3
   },
   "file_extension": ".py",
   "mimetype": "text/x-python",
   "name": "python",
   "nbconvert_exporter": "python",
   "pygments_lexer": "ipython3",
   "version": "3.8.5"
  }
 },
 "nbformat": 4,
 "nbformat_minor": 5
}
